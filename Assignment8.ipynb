{
 "cells": [
  {
   "cell_type": "markdown",
   "id": "abee00a2",
   "metadata": {},
   "source": [
    "# Logistic Regression"
   ]
  },
  {
   "cell_type": "code",
   "execution_count": 1,
   "id": "027f3b65",
   "metadata": {},
   "outputs": [],
   "source": [
    "import numpy as np \n",
    "import pandas as pd \n",
    "import matplotlib.pyplot as plt\n",
    "import seaborn as sns\n",
    "from sklearn.model_selection import train_test_split\n",
    "from sklearn.preprocessing import StandardScaler\n",
    "from sklearn.linear_model import LogisticRegression\n",
    "from sklearn.metrics import classification_report, confusion_matrix, accuracy_score\n",
    "from sklearn.datasets import load_iris"
   ]
  },
  {
   "cell_type": "markdown",
   "id": "e9ef07ae",
   "metadata": {},
   "source": [
    "## load dataset"
   ]
  },
  {
   "cell_type": "code",
   "execution_count": 2,
   "id": "769ef3a1",
   "metadata": {},
   "outputs": [
    {
     "data": {
      "text/plain": [
       "sklearn.utils._bunch.Bunch"
      ]
     },
     "execution_count": 2,
     "metadata": {},
     "output_type": "execute_result"
    }
   ],
   "source": [
    "iris=load_iris()\n",
    "type(iris)"
   ]
  },
  {
   "cell_type": "code",
   "execution_count": 3,
   "id": "8f6f01b7",
   "metadata": {},
   "outputs": [
    {
     "data": {
      "text/plain": [
       "((150, 4), (150,))"
      ]
     },
     "execution_count": 3,
     "metadata": {},
     "output_type": "execute_result"
    }
   ],
   "source": [
    "x=iris.data\n",
    "y=iris.target\n",
    "x.shape,y.shape"
   ]
  },
  {
   "cell_type": "markdown",
   "id": "8000f1f5",
   "metadata": {},
   "source": [
    "## Splitting the dataset into training and testing data\n"
   ]
  },
  {
   "cell_type": "code",
   "execution_count": 4,
   "id": "03c2c21e",
   "metadata": {},
   "outputs": [
    {
     "data": {
      "text/plain": [
       "((120, 4), (30, 4), (120,), (30,))"
      ]
     },
     "execution_count": 4,
     "metadata": {},
     "output_type": "execute_result"
    }
   ],
   "source": [
    "x_train,x_test,y_train,y_test=train_test_split(x,y,test_size=0.2,shuffle=True,random_state=42,stratify=y)\n",
    "x_train.shape,x_test.shape,y_train.shape,y_test.shape"
   ]
  },
  {
   "cell_type": "markdown",
   "id": "dfa1df2e",
   "metadata": {},
   "source": [
    "# standardizing the data\n"
   ]
  },
  {
   "cell_type": "code",
   "execution_count": 5,
   "id": "d33b8d94",
   "metadata": {},
   "outputs": [
    {
     "data": {
      "text/plain": [
       "(array([[-1.72156775, -0.33210111, -1.34572231, -1.32327558],\n",
       "        [-1.12449223, -1.22765467,  0.41450518,  0.6517626 ],\n",
       "        [ 1.14439475, -0.5559895 ,  0.58484978,  0.25675496],\n",
       "        [-1.12449223,  0.11567567, -1.28894078, -1.45494479],\n",
       "        [-0.40800161, -1.22765467,  0.13059752,  0.12508575]]),\n",
       " array([[-1.72156775, -0.10821272, -1.40250384, -1.32327558],\n",
       "        [ 0.30848902, -0.10821272,  0.64163131,  0.78343181],\n",
       "        [-1.12449223, -1.45154306, -0.2668732 , -0.26992188],\n",
       "        [-1.00507713, -1.67543145, -0.2668732 , -0.26992188],\n",
       "        [-1.72156775,  0.33956406, -1.40250384, -1.32327558]]))"
      ]
     },
     "execution_count": 5,
     "metadata": {},
     "output_type": "execute_result"
    }
   ],
   "source": [
    "scaler=StandardScaler()\n",
    "x_train=scaler.fit_transform(x_train)\n",
    "x_test=scaler.transform(x_test)\n",
    "x_train[0:5],x_test[0:5]"
   ]
  },
  {
   "cell_type": "markdown",
   "id": "dd90c27e",
   "metadata": {},
   "source": [
    "# creating model\n"
   ]
  },
  {
   "cell_type": "code",
   "execution_count": 6,
   "id": "4072102e",
   "metadata": {},
   "outputs": [
    {
     "data": {
      "text/plain": [
       "(array([[-1.08894494,  1.02420763, -1.79905609, -1.68622819],\n",
       "        [ 0.53633654, -0.36048698, -0.20407418, -0.80795703],\n",
       "        [ 0.5526084 , -0.66372065,  2.00313027,  2.49418523]]),\n",
       " array([-0.30558672,  1.90855554, -1.60296882]))"
      ]
     },
     "execution_count": 6,
     "metadata": {},
     "output_type": "execute_result"
    }
   ],
   "source": [
    "model=LogisticRegression()\n",
    "model.fit(x_train,y_train)\n",
    "model.coef_,model.intercept_"
   ]
  },
  {
   "cell_type": "markdown",
   "id": "8d831496",
   "metadata": {},
   "source": [
    "# predicting the model\n"
   ]
  },
  {
   "cell_type": "code",
   "execution_count": 7,
   "id": "6c0509c0",
   "metadata": {},
   "outputs": [
    {
     "data": {
      "text/plain": [
       "(array([0, 2, 1, 1, 0]), array([0, 2, 1, 1, 0]))"
      ]
     },
     "execution_count": 7,
     "metadata": {},
     "output_type": "execute_result"
    }
   ],
   "source": [
    "y_pred=model.predict(x_test)\n",
    "y_pred[0:5],y_test[0:5]\n"
   ]
  },
  {
   "cell_type": "markdown",
   "id": "17f3cceb",
   "metadata": {},
   "source": [
    "# checking the accuracy of the model\n"
   ]
  },
  {
   "cell_type": "code",
   "execution_count": 8,
   "id": "e32b0000",
   "metadata": {},
   "outputs": [
    {
     "name": "stdout",
     "output_type": "stream",
     "text": [
      "Accuracy of the model is:  93.33333333333333\n"
     ]
    }
   ],
   "source": [
    "print(\"Accuracy of the model is: \",accuracy_score(y_test,y_pred)*100)"
   ]
  },
  {
   "cell_type": "markdown",
   "id": "d1637fdc",
   "metadata": {},
   "source": [
    "# checking the classification report\n"
   ]
  },
  {
   "cell_type": "code",
   "execution_count": 9,
   "id": "46116450",
   "metadata": {},
   "outputs": [
    {
     "name": "stdout",
     "output_type": "stream",
     "text": [
      "              precision    recall  f1-score   support\n",
      "\n",
      "           0       1.00      1.00      1.00        10\n",
      "           1       0.90      0.90      0.90        10\n",
      "           2       0.90      0.90      0.90        10\n",
      "\n",
      "    accuracy                           0.93        30\n",
      "   macro avg       0.93      0.93      0.93        30\n",
      "weighted avg       0.93      0.93      0.93        30\n",
      "\n"
     ]
    }
   ],
   "source": [
    "print(classification_report(y_test,y_pred))"
   ]
  },
  {
   "cell_type": "markdown",
   "id": "a973ddfe",
   "metadata": {},
   "source": [
    "# confusion matrix\n"
   ]
  },
  {
   "cell_type": "code",
   "execution_count": 10,
   "id": "6c1248fe",
   "metadata": {},
   "outputs": [
    {
     "data": {
      "text/plain": [
       "array([[10,  0,  0],\n",
       "       [ 0,  9,  1],\n",
       "       [ 0,  1,  9]], dtype=int64)"
      ]
     },
     "execution_count": 10,
     "metadata": {},
     "output_type": "execute_result"
    }
   ],
   "source": [
    "cm=confusion_matrix(y_test,y_pred)\n",
    "cm"
   ]
  },
  {
   "cell_type": "code",
   "execution_count": 11,
   "id": "132617e4",
   "metadata": {},
   "outputs": [
    {
     "data": {
      "image/png": "[encoded data removed]",
      "text/plain": [
       "<Figure size 400x400 with 2 Axes>"
      ]
     },
     "metadata": {},
     "output_type": "display_data"
    }
   ],
   "source": [
    "plt.figure(figsize=(4,4))\n",
    "plt.title(\"Confusion Matrix\")\n",
    "sns.heatmap(cm,annot=True,cmap='Blues',fmt='g')\n",
    "plt.xlabel(\"Predicted\")\n",
    "plt.ylabel(\"Actual\")\n",
    "plt.show()\n"
   ]
  },
  {
   "cell_type": "code",
   "execution_count": null,
   "id": "13eedaad",
   "metadata": {},
   "outputs": [],
   "source": []
  }
 ],
 "metadata": {
  "kernelspec": {
   "display_name": "Python 3",
   "language": "python",
   "name": "python3"
  },
  "language_info": {
   "codemirror_mode": {
    "name": "ipython",
    "version": 3
   },
   "file_extension": ".py",
   "mimetype": "text/x-python",
   "name": "python",
   "nbconvert_exporter": "python",
   "pygments_lexer": "ipython3",
   "version": "3.9.0"
  }
 },
 "nbformat": 4,
 "nbformat_minor": 5
}
